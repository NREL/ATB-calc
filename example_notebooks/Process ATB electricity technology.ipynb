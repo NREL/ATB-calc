{
 "cells": [
  {
   "cell_type": "markdown",
   "id": "b5308187",
   "metadata": {},
   "source": [
    "Copyright (c) Alliance for Sustainable Energy, LLC and Skye Analytics, Inc. See also https://github.com/NREL/ATB-calc/blob/main/LICENSE"
   ]
  },
  {
   "attachments": {},
   "cell_type": "markdown",
   "id": "3db88bf6",
   "metadata": {},
   "source": [
    "# Process an ATB electricity technology\n",
    "This Jupyter notebook is an example of how to run the ATB data processing pipeline and extract data from the ATB electricity data workbook for an individual technology. The path to the workbook on your computer needs to be updated as indicated below. The notebook will otherwise run as-is. There is commented-out code in several locations showing alternative ways to run the pipeline. "
   ]
  },
  {
   "cell_type": "code",
   "execution_count": null,
   "id": "100179a5",
   "metadata": {},
   "outputs": [],
   "source": [
    "import os\n",
    "import sys\n",
    "import pandas as pd\n",
    "from datetime import datetime as dt\n",
    "\n",
    "sys.path.insert(0, os.path.dirname(os.getcwd()))\n",
    "\n",
    "# Electricity technology processors\n",
    "from lcoe_calculator.tech_processors import (\n",
    "    OffShoreWindProc, LandBasedWindProc, DistributedWindProc,\n",
    "    UtilityPvProc, CommPvProc, ResPvProc, UtilityPvPlusBatteryProc,\n",
    "    CspProc, GeothermalProc, HydropowerProc, PumpedStorageHydroProc,\n",
    "    CoalProc, NaturalGasProc, NuclearProc, BiopowerProc,\n",
    "    UtilityBatteryProc, CommBatteryProc, ResBatteryProc,\n",
    "    CoalRetrofitProc, NaturalGasRetrofitProc, NaturalGasFuelCellProc\n",
    ")\n",
    "\n",
    "from IPython.display import display, HTML\n",
    "display(HTML(\"<style>.container { width:90% !important; }</style>\"))"
   ]
  },
  {
   "attachments": {},
   "cell_type": "markdown",
   "id": "84550a5b",
   "metadata": {},
   "source": [
    "## Load the ATB electricity workbook\n",
    "Update the path for `atb_electricity_workbook` to point to your copy of the electricity workbook downloaded from the [ATB website](https://atb.nrel.gov).\n"
   ]
  },
  {
   "cell_type": "code",
   "execution_count": null,
   "id": "9c8a80ea",
   "metadata": {},
   "outputs": [],
   "source": [
    "# The below line MUST be updated to reflect the location of the ATB workbook on your computer\n",
    "atb_electricity_workbook = 'path/to/2023_v2_Workbook_Corrected_07_20_23.xlsx'"
   ]
  },
  {
   "cell_type": "markdown",
   "id": "8cfdf9eb",
   "metadata": {},
   "source": [
    "## Select CRP and financial case and technology"
   ]
  },
  {
   "cell_type": "code",
   "execution_count": null,
   "id": "0be06180",
   "metadata": {
    "scrolled": false
   },
   "outputs": [],
   "source": [
    "# The CRP may be one of 20, 30, or 'TechLife' in quotes\n",
    "crp = 20\n",
    "# crp = 30\n",
    "# crp = 'TechLife'\n",
    "\n",
    "# The financial case can be either 'R&D' or 'Market'\n",
    "financial_case = 'R&D'\n",
    "# financial_case = 'Market'\n",
    "\n",
    "# Finally, choose a technology processor from the list imported from lcoe_calculator.tech_processors \n",
    "# above and initialize it. Several options are shown in comments, but only one should be used at a time. \n",
    "# Microsoft Excel may open and ask for permission to view the workbook. \n",
    "proc = OffShoreWindProc(atb_electricity_workbook, crp=crp, case=financial_case)\n",
    "\n",
    "# proc = UtilityPvProc(atb_electricity_workbook, crp=crp, case=financial_case)\n",
    "# proc = NaturalGasProc(atb_electricity_workbook, crp=crp, case=financial_case)\n",
    "# proc = NuclearProc(atb_electricity_workbook, crp=crp, case=financial_case)"
   ]
  },
  {
   "cell_type": "markdown",
   "id": "f5d0b6ee",
   "metadata": {},
   "source": [
    "### View techonology meta-data"
   ]
  },
  {
   "cell_type": "code",
   "execution_count": null,
   "id": "6fbd79c2",
   "metadata": {},
   "outputs": [],
   "source": [
    "proc.get_meta_data()"
   ]
  },
  {
   "attachments": {},
   "cell_type": "markdown",
   "id": "4adc517e",
   "metadata": {},
   "source": [
    "## Run the processor and test the calculated LCOE and CAPEX against the values in the workbook. \n",
    "Note that not all technologies have LCOE and CAPEX. "
   ]
  },
  {
   "cell_type": "code",
   "execution_count": null,
   "id": "d152b8d3",
   "metadata": {
    "scrolled": false
   },
   "outputs": [],
   "source": [
    "# Run the pipeline\n",
    "proc.run()\n",
    "\n",
    "# Test LCOE and CAPEX\n",
    "proc.test_capex()\n",
    "proc.test_lcoe()"
   ]
  },
  {
   "cell_type": "markdown",
   "id": "7e3602c4",
   "metadata": {},
   "source": [
    "## View results\n",
    "Various metrics are available on the technology processors once they have been `run()`. Note that not all technologies have all metrics. Several typical metrics are shown below. The full list of available metrics can be determined by viewing the code in `lcoe_calculator/base_processor.py` and the technology of interest in `lcoe_calculator/tech_processors.py`. Note that all metrics are stored in pandas data frames, as indicated by the `df_` prefix. Any metric may be copied to the clipboard (e.g., for viewing in a spreadsheet) with the `.to_clipboar()` method. For example: `proc.df_lcoe.to_clipboard()`. "
   ]
  },
  {
   "cell_type": "code",
   "execution_count": null,
   "id": "ab3dff72",
   "metadata": {},
   "outputs": [],
   "source": [
    "# LCOE\n",
    "proc.df_lcoe"
   ]
  },
  {
   "cell_type": "code",
   "execution_count": null,
   "id": "d0601e07",
   "metadata": {
    "scrolled": true
   },
   "outputs": [],
   "source": [
    "# Net capacity factor\n",
    "proc.df_ncf"
   ]
  },
  {
   "cell_type": "code",
   "execution_count": null,
   "id": "e5fad8e9",
   "metadata": {
    "scrolled": true
   },
   "outputs": [],
   "source": [
    "# WACC\n",
    "proc.df_wacc"
   ]
  },
  {
   "cell_type": "code",
   "execution_count": null,
   "id": "213bba3e",
   "metadata": {
    "scrolled": true
   },
   "outputs": [],
   "source": [
    "# Construction finance factor\n",
    "proc.df_cff"
   ]
  },
  {
   "cell_type": "code",
   "execution_count": null,
   "id": "57c0cc39",
   "metadata": {},
   "outputs": [],
   "source": [
    "# Plot LCOE by year for Offshore Wind - Class 1/Advanced\n",
    "ax = proc.df_lcoe.loc['Offshore Wind - Class 1/Advanced'].plot()\n",
    "ax.set_xlabel(\"Year\")\n",
    "ax.set_ylabel(\"LCOE ($/MWh)\")"
   ]
  }
 ],
 "metadata": {
  "kernelspec": {
   "display_name": "Python 3 (ipykernel)",
   "language": "python",
   "name": "python3"
  },
  "language_info": {
   "codemirror_mode": {
    "name": "ipython",
    "version": 3
   },
   "file_extension": ".py",
   "mimetype": "text/x-python",
   "name": "python",
   "nbconvert_exporter": "python",
   "pygments_lexer": "ipython3",
   "version": "3.11.5"
  }
 },
 "nbformat": 4,
 "nbformat_minor": 5
}
