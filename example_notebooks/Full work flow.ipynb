{
 "cells": [
  {
   "cell_type": "markdown",
   "id": "dd65dfae",
   "metadata": {},
   "source": [
    "Copyright (c) Alliance for Sustainable Energy, LLC and Skye Analytics, Inc. See also https://github.com/NREL/ATB-calc/blob/main/LICENSE"
   ]
  },
  {
   "attachments": {},
   "cell_type": "markdown",
   "id": "ad567ffb",
   "metadata": {},
   "source": [
    "# Run ATB LCOE pipeline\n",
    "This Jupyter notebook is an example of how to run the ATB data processing pipeline and extract data from the ATB electricity data workbook. The path to the workbook on your computer needs to be updated as indicated below. The notebook will otherwise run as-is. There is commented-out code in several locations showing alternative ways to run the pipeline. "
   ]
  },
  {
   "cell_type": "code",
   "execution_count": null,
   "id": "fbeddc7b",
   "metadata": {},
   "outputs": [],
   "source": [
    "import os\n",
    "import sys\n",
    "import pandas as pd\n",
    "from datetime import datetime as dt\n",
    "\n",
    "sys.path.insert(0, os.path.dirname(os.getcwd()))\n",
    "from lcoe_calculator.process_all import ProcessAll\n",
    "from lcoe_calculator.tech_processors import (ALL_TECHS,\n",
    "    OffShoreWindProc, LandBasedWindProc, DistributedWindProc,\n",
    "    UtilityPvProc, CommPvProc, ResPvProc, UtilityPvPlusBatteryProc,\n",
    "    CspProc, GeothermalProc, HydropowerProc, PumpedStorageHydroProc,\n",
    "    CoalProc, NaturalGasProc, NuclearProc, BiopowerProc,\n",
    "    UtilityBatteryProc, CommBatteryProc, ResBatteryProc,\n",
    "    CoalRetrofitProc, NaturalGasRetrofitProc, NaturalGasFuelCellProc)\n",
    "\n",
    "from IPython.display import display, HTML\n",
    "display(HTML(\"<style>.container { width:90% !important; }</style>\"))"
   ]
  },
  {
   "attachments": {},
   "cell_type": "markdown",
   "id": "69d9294d",
   "metadata": {},
   "source": [
    "## Load the ATB data workbook & prepare for processing\n",
    "Update the path for `atb_electricity_workbook` to point to your copy of the ATB electricity data\n",
    "workbook downloaded from the [ATB website](https://atb.nrel.gov). \n",
    "\n",
    "The pipeline can be run for one, several, or all ATB electricity technologies. \n"
   ]
  },
  {
   "cell_type": "code",
   "execution_count": null,
   "id": "fe2dd335",
   "metadata": {
    "scrolled": true
   },
   "outputs": [],
   "source": [
    "# The below line MUST be updated to reflect the location of the ATB workbook on your computer\n",
    "atb_electricity_workbook = 'path/to/2023_v2_Workbook_Corrected_07_20_23.xlsx'\n",
    "\n",
    "# ---- Comment/uncomment the below lines to process all techs or a subset of techs\n",
    "# Process all technologies\n",
    "techs = ALL_TECHS\n",
    "\n",
    "# Process a couple technologies\n",
    "techs = [LandBasedWindProc, OffShoreWindProc]\n",
    "\n",
    "# Or process a single technology\n",
    "techs = LandBasedWindProc\n",
    "\n",
    "# Initiate the processor with the workbook location and desired technologies\n",
    "processor = ProcessAll(atb_electricity_workbook, techs)"
   ]
  },
  {
   "attachments": {},
   "cell_type": "markdown",
   "id": "ebba4884",
   "metadata": {},
   "source": [
    "## Run the pipeline\n",
    "Now that the processor knows where the data workbook is and which technologies we are interested in, we\n",
    "can kick it off. Depending on the number of requested technologies, this can take a couple minutes.\n",
    "Note that calculated LCOE and CAPEX is automatically compared to the values in the workbook. Not all\n",
    "technologies have LCOE and CAPEX."
   ]
  },
  {
   "cell_type": "code",
   "execution_count": null,
   "id": "e97aabd5",
   "metadata": {
    "scrolled": true
   },
   "outputs": [],
   "source": [
    "start = dt.now()\n",
    "processor.process()\n",
    "print('Processing completed in ', dt.now() - start)"
   ]
  },
  {
   "cell_type": "markdown",
   "id": "1698b6d0",
   "metadata": {},
   "source": [
    "## Data extraction\n",
    "Congratulations! The pipeline has run and the data is available. Several options for extracting the code are shown below. "
   ]
  },
  {
   "cell_type": "code",
   "execution_count": null,
   "id": "344de363",
   "metadata": {},
   "outputs": [],
   "source": [
    "# Save data to as a CSV\n",
    "processor.to_csv('atb_data.csv')\n",
    "\n",
    "# Save flattened data to as a CSV\n",
    "processor.flat_to_csv('atb_data_flat.csv')\n",
    "\n",
    "# Save meta data to as a CSV\n",
    "processor.meta_data_to_csv('atb_meta_data.csv')\n",
    "\n",
    "# Copy data to the clipboard so it can be pasted in a spreadsheet \n",
    "processor.data.to_clipboard()"
   ]
  },
  {
   "cell_type": "markdown",
   "id": "47567906",
   "metadata": {},
   "source": [
    "## Exploring the data in the notebook\n",
    "The extracted and calculated parameters can also be viewed directly in the notebook if desired. Note that the data is a combination of all technologies that were processed and may need to be filtered. Working with a single technology processor as described in the `Tech Processor.ipynb` notebook may be easier depending on your goals. Data is internally stored as a [pandas](https://pandas.pydata.org) data frame."
   ]
  },
  {
   "cell_type": "code",
   "execution_count": null,
   "id": "e459c567",
   "metadata": {},
   "outputs": [],
   "source": [
    "data = processor.data\n",
    "\n",
    "# Show available parameters\n",
    "print('Available parameters')\n",
    "display(data.Parameter.unique())\n",
    "\n",
    "# Display LCOE\n",
    "print('Calculated LCOE')\n",
    "display(data[data.Parameter == \"LCOE\"])\n",
    "\n",
    "# Display capacity factor\n",
    "print('Capacity factor')\n",
    "display(data[data.Parameter == \"CF\"])"
   ]
  }
 ],
 "metadata": {
  "kernelspec": {
   "display_name": "Python 3 (ipykernel)",
   "language": "python",
   "name": "python3"
  },
  "language_info": {
   "codemirror_mode": {
    "name": "ipython",
    "version": 3
   },
   "file_extension": ".py",
   "mimetype": "text/x-python",
   "name": "python",
   "nbconvert_exporter": "python",
   "pygments_lexer": "ipython3",
   "version": "3.10.12"
  },
  "vscode": {
   "interpreter": {
    "hash": "7453c7a7c4c6aacca0bd3e48c10e9f590f02fc03a145dba291554d026d9242d0"
   }
  }
 },
 "nbformat": 4,
 "nbformat_minor": 5
}
